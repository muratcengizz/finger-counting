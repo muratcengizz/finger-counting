{
 "cells": [
  {
   "cell_type": "code",
   "execution_count": 1,
   "id": "dfa76301-bdb5-4114-8f67-9abc21f97308",
   "metadata": {},
   "outputs": [],
   "source": [
    "import cv2\n",
    "import time\n",
    "import mediapipe as mp"
   ]
  },
  {
   "cell_type": "code",
   "execution_count": 33,
   "id": "2635683d-defd-4df5-8e2d-3fa9d4c4edfd",
   "metadata": {
    "tags": []
   },
   "outputs": [],
   "source": [
    "video = cv2.VideoCapture(0)\n",
    "\n",
    "mpHands = mp.solutions.hands\n",
    "hands = mpHands.Hands()\n",
    "drawing = mp.solutions.drawing_utils\n",
    "\n",
    "tipIds = [4, 8, 12, 16, 20] # Parmak uç noktaları id'leri\n",
    "\n",
    "while True:\n",
    "    retval, img = video.read()\n",
    "    if not retval: break\n",
    "    \n",
    "    img = cv2.flip(src=img, flipCode=1)\n",
    "    results = hands.process(image=img).multi_hand_landmarks\n",
    "    \n",
    "    landMarkList = []\n",
    "    if results:\n",
    "        for handlandmark in results:\n",
    "            drawing.draw_landmarks(image=img,\n",
    "                                   landmark_list=handlandmark,\n",
    "                                   connections=mpHands.HAND_CONNECTIONS)\n",
    "            \n",
    "            for id, landmark in enumerate(handlandmark.landmark):\n",
    "                height, width, color = img.shape\n",
    "                cx, cy = int(landmark.x * width), int(landmark.y * height)\n",
    "                landMarkList.append([id, cx, cy])\n",
    "               \n",
    "    \n",
    "    if len(landMarkList) != 0:\n",
    "        fingers = []\n",
    "        \n",
    "        # baş parmak\n",
    "        if landMarkList[tipIds[0]][1] < landMarkList[tipIds[0] - 1][1]:\n",
    "            fingers.append(1)\n",
    "        else: \n",
    "            fingers.append(0)\n",
    "        \n",
    "        # 4 parmak\n",
    "        for id in range(1, 5):\n",
    "            \n",
    "            if landMarkList[tipIds[id]][2] < landMarkList[tipIds[id] - 2][2]:\n",
    "                fingers.append(1)\n",
    "            else:\n",
    "                fingers.append(0)\n",
    "       \n",
    "    \n",
    "        totalF = fingers.count(1)\n",
    "        cv2.putText(img=img, \n",
    "                    org=(500, 30),\n",
    "                    text=f\"{totalF}\",\n",
    "                    color=(0, 0, 255),\n",
    "                    fontFace=cv2.FONT_HERSHEY_SIMPLEX,\n",
    "                    fontScale=1,\n",
    "                    thickness=2)\n",
    "    \n",
    "    \n",
    "    \n",
    "    \n",
    "    \n",
    "    cv2.imshow(winname='Video', mat=img)\n",
    "    \n",
    "    if cv2.waitKey(1) == ord('q'): break\n",
    "\n",
    "video.release()\n",
    "cv2.destroyAllWindows() "
   ]
  },
  {
   "cell_type": "code",
   "execution_count": null,
   "id": "3ba105c5-816d-4c8e-9349-302ab41bcbfa",
   "metadata": {},
   "outputs": [],
   "source": []
  }
 ],
 "metadata": {
  "kernelspec": {
   "display_name": "Python 3 (ipykernel)",
   "language": "python",
   "name": "python3"
  },
  "language_info": {
   "codemirror_mode": {
    "name": "ipython",
    "version": 3
   },
   "file_extension": ".py",
   "mimetype": "text/x-python",
   "name": "python",
   "nbconvert_exporter": "python",
   "pygments_lexer": "ipython3",
   "version": "3.9.12"
  }
 },
 "nbformat": 4,
 "nbformat_minor": 5
}
